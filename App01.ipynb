{
  "nbformat": 4,
  "nbformat_minor": 0,
  "metadata": {
    "colab": {
      "name": "App01.ipynb",
      "version": "0.3.2",
      "provenance": [],
      "include_colab_link": true
    },
    "kernelspec": {
      "name": "python3",
      "display_name": "Python 3"
    }
  },
  "cells": [
    {
      "cell_type": "markdown",
      "metadata": {
        "id": "view-in-github",
        "colab_type": "text"
      },
      "source": [
        "<a href=\"https://colab.research.google.com/github/goldenamir/md/blob/master/App01.ipynb\" target=\"_parent\"><img src=\"https://colab.research.google.com/assets/colab-badge.svg\" alt=\"Open In Colab\"/></a>"
      ]
    },
    {
      "metadata": {
        "id": "SDiNkWXfn1ho",
        "colab_type": "code",
        "outputId": "cb6cf04a-b66b-4047-f9da-0cf8c0fb2ce7",
        "colab": {
          "base_uri": "https://localhost:8080/",
          "height": 35
        }
      },
      "cell_type": "code",
      "source": [
        "import pandas as pd\n",
        "import matplotlib.pyplot as plt"
      ],
      "execution_count": 11,
      "outputs": [
        {
          "output_type": "stream",
          "text": [
            "/bin/bash: inline: command not found\n"
          ],
          "name": "stdout"
        }
      ]
    },
    {
      "metadata": {
        "id": "Gjv_IN6In4NM",
        "colab_type": "code",
        "colab": {}
      },
      "cell_type": "code",
      "source": [
        "df = pd.read_excel('https://raw.githubusercontent.com/goldenamir/md/master/Data.xlsx')"
      ],
      "execution_count": 0,
      "outputs": []
    },
    {
      "metadata": {
        "id": "jLqlIq0an92O",
        "colab_type": "code",
        "outputId": "a4100099-d851-4816-a1bb-cda1ed3063c0",
        "colab": {
          "base_uri": "https://localhost:8080/",
          "height": 390
        }
      },
      "cell_type": "code",
      "source": [
        "df.head()"
      ],
      "execution_count": 0,
      "outputs": [
        {
          "output_type": "execute_result",
          "data": {
            "text/html": [
              "<div>\n",
              "<style scoped>\n",
              "    .dataframe tbody tr th:only-of-type {\n",
              "        vertical-align: middle;\n",
              "    }\n",
              "\n",
              "    .dataframe tbody tr th {\n",
              "        vertical-align: top;\n",
              "    }\n",
              "\n",
              "    .dataframe thead th {\n",
              "        text-align: right;\n",
              "    }\n",
              "</style>\n",
              "<table border=\"1\" class=\"dataframe\">\n",
              "  <thead>\n",
              "    <tr style=\"text-align: right;\">\n",
              "      <th></th>\n",
              "      <th>شماره\n",
              " پرسشنامه</th>\n",
              "      <th>نام و نام خانوادگی</th>\n",
              "      <th>کد بیمار</th>\n",
              "      <th>شماره پرونده</th>\n",
              "      <th>سن</th>\n",
              "      <th>تاریخ ترخیص</th>\n",
              "      <th>طول مدت بستری</th>\n",
              "      <th>تاریخ بستری</th>\n",
              "      <th>جنسیت</th>\n",
              "      <th>قد</th>\n",
              "      <th>...</th>\n",
              "      <th>NIV usage</th>\n",
              "      <th>ARDS</th>\n",
              "      <th>عارضه دیگر</th>\n",
              "      <th>سرانجام بیمار</th>\n",
              "      <th>وضعیت بیمار\n",
              " هنگام ترخیص</th>\n",
              "      <th>Unnamed: 178</th>\n",
              "      <th>Unnamed: 179</th>\n",
              "      <th>Unnamed: 180</th>\n",
              "      <th>Unnamed: 181</th>\n",
              "      <th>0</th>\n",
              "    </tr>\n",
              "  </thead>\n",
              "  <tbody>\n",
              "    <tr>\n",
              "      <th>0</th>\n",
              "      <td>1</td>\n",
              "      <td>عزت اله اسکی</td>\n",
              "      <td>1370941.0</td>\n",
              "      <td>488243.0</td>\n",
              "      <td>54.0</td>\n",
              "      <td>1396/7/18</td>\n",
              "      <td>7.0</td>\n",
              "      <td>1396/7/11</td>\n",
              "      <td>1.0</td>\n",
              "      <td>173</td>\n",
              "      <td>...</td>\n",
              "      <td>NaN</td>\n",
              "      <td>NaN</td>\n",
              "      <td>0</td>\n",
              "      <td>1</td>\n",
              "      <td>2.0</td>\n",
              "      <td>NaN</td>\n",
              "      <td>NaN</td>\n",
              "      <td>NaN</td>\n",
              "      <td>NaN</td>\n",
              "      <td>NaN</td>\n",
              "    </tr>\n",
              "    <tr>\n",
              "      <th>1</th>\n",
              "      <td>2</td>\n",
              "      <td>خلیل اله لسانی</td>\n",
              "      <td>1372672.0</td>\n",
              "      <td>488243.0</td>\n",
              "      <td>48.0</td>\n",
              "      <td>1396/7/23</td>\n",
              "      <td>13.0</td>\n",
              "      <td>1396/7/10</td>\n",
              "      <td>1.0</td>\n",
              "      <td>172</td>\n",
              "      <td>...</td>\n",
              "      <td>NaN</td>\n",
              "      <td>NaN</td>\n",
              "      <td>0</td>\n",
              "      <td>1</td>\n",
              "      <td>2.0</td>\n",
              "      <td>NaN</td>\n",
              "      <td>NaN</td>\n",
              "      <td>NaN</td>\n",
              "      <td>NaN</td>\n",
              "      <td>NaN</td>\n",
              "    </tr>\n",
              "    <tr>\n",
              "      <th>2</th>\n",
              "      <td>3</td>\n",
              "      <td>ماشا اله میرزائی</td>\n",
              "      <td>1369072.0</td>\n",
              "      <td>487261.0</td>\n",
              "      <td>48.0</td>\n",
              "      <td>1396/7/22</td>\n",
              "      <td>21.0</td>\n",
              "      <td>1396/7/1</td>\n",
              "      <td>1.0</td>\n",
              "      <td>176</td>\n",
              "      <td>...</td>\n",
              "      <td>NaN</td>\n",
              "      <td>NaN</td>\n",
              "      <td>0</td>\n",
              "      <td>1</td>\n",
              "      <td>2.0</td>\n",
              "      <td>NaN</td>\n",
              "      <td>NaN</td>\n",
              "      <td>NaN</td>\n",
              "      <td>NaN</td>\n",
              "      <td>NaN</td>\n",
              "    </tr>\n",
              "    <tr>\n",
              "      <th>3</th>\n",
              "      <td>4</td>\n",
              "      <td>نوراله قلندری</td>\n",
              "      <td>1371087.0</td>\n",
              "      <td>487707.0</td>\n",
              "      <td>66.0</td>\n",
              "      <td>1396/8/3</td>\n",
              "      <td>32.0</td>\n",
              "      <td>1396/7/1</td>\n",
              "      <td>1.0</td>\n",
              "      <td>158</td>\n",
              "      <td>...</td>\n",
              "      <td>NaN</td>\n",
              "      <td>NaN</td>\n",
              "      <td>0</td>\n",
              "      <td>1</td>\n",
              "      <td>2.0</td>\n",
              "      <td>NaN</td>\n",
              "      <td>NaN</td>\n",
              "      <td>NaN</td>\n",
              "      <td>NaN</td>\n",
              "      <td>NaN</td>\n",
              "    </tr>\n",
              "    <tr>\n",
              "      <th>4</th>\n",
              "      <td>5</td>\n",
              "      <td>اکرم جلالی</td>\n",
              "      <td>1373717.0</td>\n",
              "      <td>488400.0</td>\n",
              "      <td>66.0</td>\n",
              "      <td>1396/7/29</td>\n",
              "      <td>16.0</td>\n",
              "      <td>1396/7/13</td>\n",
              "      <td>2.0</td>\n",
              "      <td>154</td>\n",
              "      <td>...</td>\n",
              "      <td>NaN</td>\n",
              "      <td>NaN</td>\n",
              "      <td>0</td>\n",
              "      <td>1</td>\n",
              "      <td>2.0</td>\n",
              "      <td>NaN</td>\n",
              "      <td>NaN</td>\n",
              "      <td>NaN</td>\n",
              "      <td>NaN</td>\n",
              "      <td>NaN</td>\n",
              "    </tr>\n",
              "  </tbody>\n",
              "</table>\n",
              "<p>5 rows × 183 columns</p>\n",
              "</div>"
            ],
            "text/plain": [
              "   شماره\\n پرسشنامه نام و نام خانوادگی   کد بیمار  شماره پرونده    سن  \\\n",
              "0                 1       عزت اله اسکی  1370941.0      488243.0  54.0   \n",
              "1                 2     خلیل اله لسانی  1372672.0      488243.0  48.0   \n",
              "2                 3   ماشا اله میرزائی  1369072.0      487261.0  48.0   \n",
              "3                 4      نوراله قلندری  1371087.0      487707.0  66.0   \n",
              "4                 5        اکرم جلالی   1373717.0      488400.0  66.0   \n",
              "\n",
              "  تاریخ ترخیص  طول مدت بستری تاریخ بستری  جنسیت   قد ...  NIV usage  ARDS  \\\n",
              "0   1396/7/18            7.0   1396/7/11    1.0  173 ...        NaN   NaN   \n",
              "1   1396/7/23           13.0   1396/7/10    1.0  172 ...        NaN   NaN   \n",
              "2   1396/7/22           21.0    1396/7/1    1.0  176 ...        NaN   NaN   \n",
              "3    1396/8/3           32.0    1396/7/1    1.0  158 ...        NaN   NaN   \n",
              "4   1396/7/29           16.0   1396/7/13    2.0  154 ...        NaN   NaN   \n",
              "\n",
              "   عارضه دیگر سرانجام بیمار  وضعیت بیمار\\n هنگام ترخیص  Unnamed: 178  \\\n",
              "0           0             1                        2.0           NaN   \n",
              "1           0             1                        2.0           NaN   \n",
              "2           0             1                        2.0           NaN   \n",
              "3           0             1                        2.0           NaN   \n",
              "4           0             1                        2.0           NaN   \n",
              "\n",
              "   Unnamed: 179  Unnamed: 180 Unnamed: 181   0  \n",
              "0           NaN           NaN          NaN NaN  \n",
              "1           NaN           NaN          NaN NaN  \n",
              "2           NaN           NaN          NaN NaN  \n",
              "3           NaN           NaN          NaN NaN  \n",
              "4           NaN           NaN          NaN NaN  \n",
              "\n",
              "[5 rows x 183 columns]"
            ]
          },
          "metadata": {
            "tags": []
          },
          "execution_count": 3
        }
      ]
    },
    {
      "metadata": {
        "id": "yljRLvKkoAlA",
        "colab_type": "code",
        "outputId": "3a2c1b04-7d7c-4795-f8a6-368a012968fd",
        "colab": {
          "base_uri": "https://localhost:8080/",
          "height": 173
        }
      },
      "cell_type": "code",
      "source": [
        "df['سن'].describe()"
      ],
      "execution_count": 0,
      "outputs": [
        {
          "output_type": "execute_result",
          "data": {
            "text/plain": [
              "count    927.000000\n",
              "mean      56.188781\n",
              "std       13.929550\n",
              "min       15.000000\n",
              "25%       49.000000\n",
              "50%       58.000000\n",
              "75%       66.000000\n",
              "max       86.000000\n",
              "Name: سن, dtype: float64"
            ]
          },
          "metadata": {
            "tags": []
          },
          "execution_count": 10
        }
      ]
    },
    {
      "metadata": {
        "id": "PKnbETTRoGVJ",
        "colab_type": "code",
        "outputId": "f932a3a6-75d2-4004-df70-b272437d5be4",
        "colab": {
          "base_uri": "https://localhost:8080/",
          "height": 347
        }
      },
      "cell_type": "code",
      "source": [
        "plt.figure;\n",
        "df['سن'].plot()\n",
        "plt.show()"
      ],
      "execution_count": 12,
      "outputs": [
        {
          "output_type": "display_data",
          "data": {
            "image/png": "[encoded data removed]",
            "text/plain": [
              "<Figure size 576x396 with 1 Axes>"
            ]
          },
          "metadata": {
            "tags": []
          }
        }
      ]
    },
    {
      "metadata": {
        "id": "WF3GUA9doJqJ",
        "colab_type": "code",
        "colab": {}
      },
      "cell_type": "code",
      "source": [
        ""
      ],
      "execution_count": 0,
      "outputs": []
    }
  ]
}